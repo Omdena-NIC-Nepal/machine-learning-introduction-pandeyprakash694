{
 "cells": [
  {
   "cell_type": "markdown",
   "id": "b98bdff4-4606-4c48-a8bc-f04a93775749",
   "metadata": {},
   "source": [
    "**Objective:** \n",
    "\n",
    "To introduce students to supervised learning, focusing on linear regression, by guiding them through a project that predicts house prices based on a variety of features."
   ]
  },
  {
   "cell_type": "code",
   "execution_count": null,
   "id": "be9f8597-7945-4ddb-93a8-3cb348ca34a6",
   "metadata": {},
   "outputs": [],
   "source": []
  }
 ],
 "metadata": {
  "kernelspec": {
   "display_name": "Python 3 (ipykernel)",
   "language": "python",
   "name": "python3"
  },
  "language_info": {
   "codemirror_mode": {
    "name": "ipython",
    "version": 3
   },
   "file_extension": ".py",
   "mimetype": "text/x-python",
   "name": "python",
   "nbconvert_exporter": "python",
   "pygments_lexer": "ipython3",
   "version": "3.12.2"
  }
 },
 "nbformat": 4,
 "nbformat_minor": 5
}
